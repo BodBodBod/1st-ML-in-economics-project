{
 "cells": [
  {
   "cell_type": "code",
   "execution_count": 463,
   "id": "3e819b28",
   "metadata": {},
   "outputs": [],
   "source": [
    "import numpy as np\n",
    "import pandas as pd\n",
    "from matplotlib import pyplot as plt\n",
    "import seaborn as sns\n",
    "from IPython.display import Image\n",
    "import plotly.graph_objects as go\n",
    "import sklearn.preprocessing \n",
    "import sklearn.linear_model\n",
    "from sklearn.metrics import mean_squared_error\n",
    "import sklearn.model_selection\n",
    "from sklearn.feature_selection import RFE"
   ]
  },
  {
   "cell_type": "code",
   "execution_count": 464,
   "id": "af2cd88a",
   "metadata": {},
   "outputs": [
    {
     "data": {
      "text/html": [
       "<div>\n",
       "<style scoped>\n",
       "    .dataframe tbody tr th:only-of-type {\n",
       "        vertical-align: middle;\n",
       "    }\n",
       "\n",
       "    .dataframe tbody tr th {\n",
       "        vertical-align: top;\n",
       "    }\n",
       "\n",
       "    .dataframe thead th {\n",
       "        text-align: right;\n",
       "    }\n",
       "</style>\n",
       "<table border=\"1\" class=\"dataframe\">\n",
       "  <thead>\n",
       "    <tr style=\"text-align: right;\">\n",
       "      <th></th>\n",
       "      <th>X</th>\n",
       "      <th>Y</th>\n",
       "      <th>month</th>\n",
       "      <th>day</th>\n",
       "      <th>FFMC</th>\n",
       "      <th>DMC</th>\n",
       "      <th>DC</th>\n",
       "      <th>ISI</th>\n",
       "      <th>temp</th>\n",
       "      <th>RH</th>\n",
       "      <th>wind</th>\n",
       "      <th>rain</th>\n",
       "      <th>area</th>\n",
       "    </tr>\n",
       "  </thead>\n",
       "  <tbody>\n",
       "    <tr>\n",
       "      <th>0</th>\n",
       "      <td>7</td>\n",
       "      <td>5</td>\n",
       "      <td>mar</td>\n",
       "      <td>fri</td>\n",
       "      <td>86.2</td>\n",
       "      <td>26.2</td>\n",
       "      <td>94.3</td>\n",
       "      <td>5.1</td>\n",
       "      <td>8.2</td>\n",
       "      <td>51</td>\n",
       "      <td>6.7</td>\n",
       "      <td>0.0</td>\n",
       "      <td>0.00</td>\n",
       "    </tr>\n",
       "    <tr>\n",
       "      <th>1</th>\n",
       "      <td>7</td>\n",
       "      <td>4</td>\n",
       "      <td>oct</td>\n",
       "      <td>tue</td>\n",
       "      <td>90.6</td>\n",
       "      <td>35.4</td>\n",
       "      <td>669.1</td>\n",
       "      <td>6.7</td>\n",
       "      <td>18.0</td>\n",
       "      <td>33</td>\n",
       "      <td>0.9</td>\n",
       "      <td>0.0</td>\n",
       "      <td>0.00</td>\n",
       "    </tr>\n",
       "    <tr>\n",
       "      <th>2</th>\n",
       "      <td>7</td>\n",
       "      <td>4</td>\n",
       "      <td>oct</td>\n",
       "      <td>sat</td>\n",
       "      <td>90.6</td>\n",
       "      <td>43.7</td>\n",
       "      <td>686.9</td>\n",
       "      <td>6.7</td>\n",
       "      <td>14.6</td>\n",
       "      <td>33</td>\n",
       "      <td>1.3</td>\n",
       "      <td>0.0</td>\n",
       "      <td>0.00</td>\n",
       "    </tr>\n",
       "    <tr>\n",
       "      <th>3</th>\n",
       "      <td>8</td>\n",
       "      <td>6</td>\n",
       "      <td>mar</td>\n",
       "      <td>fri</td>\n",
       "      <td>91.7</td>\n",
       "      <td>33.3</td>\n",
       "      <td>77.5</td>\n",
       "      <td>9.0</td>\n",
       "      <td>8.3</td>\n",
       "      <td>97</td>\n",
       "      <td>4.0</td>\n",
       "      <td>0.2</td>\n",
       "      <td>0.00</td>\n",
       "    </tr>\n",
       "    <tr>\n",
       "      <th>4</th>\n",
       "      <td>8</td>\n",
       "      <td>6</td>\n",
       "      <td>mar</td>\n",
       "      <td>sun</td>\n",
       "      <td>89.3</td>\n",
       "      <td>51.3</td>\n",
       "      <td>102.2</td>\n",
       "      <td>9.6</td>\n",
       "      <td>11.4</td>\n",
       "      <td>99</td>\n",
       "      <td>1.8</td>\n",
       "      <td>0.0</td>\n",
       "      <td>0.00</td>\n",
       "    </tr>\n",
       "    <tr>\n",
       "      <th>...</th>\n",
       "      <td>...</td>\n",
       "      <td>...</td>\n",
       "      <td>...</td>\n",
       "      <td>...</td>\n",
       "      <td>...</td>\n",
       "      <td>...</td>\n",
       "      <td>...</td>\n",
       "      <td>...</td>\n",
       "      <td>...</td>\n",
       "      <td>...</td>\n",
       "      <td>...</td>\n",
       "      <td>...</td>\n",
       "      <td>...</td>\n",
       "    </tr>\n",
       "    <tr>\n",
       "      <th>512</th>\n",
       "      <td>4</td>\n",
       "      <td>3</td>\n",
       "      <td>aug</td>\n",
       "      <td>sun</td>\n",
       "      <td>81.6</td>\n",
       "      <td>56.7</td>\n",
       "      <td>665.6</td>\n",
       "      <td>1.9</td>\n",
       "      <td>27.8</td>\n",
       "      <td>32</td>\n",
       "      <td>2.7</td>\n",
       "      <td>0.0</td>\n",
       "      <td>6.44</td>\n",
       "    </tr>\n",
       "    <tr>\n",
       "      <th>513</th>\n",
       "      <td>2</td>\n",
       "      <td>4</td>\n",
       "      <td>aug</td>\n",
       "      <td>sun</td>\n",
       "      <td>81.6</td>\n",
       "      <td>56.7</td>\n",
       "      <td>665.6</td>\n",
       "      <td>1.9</td>\n",
       "      <td>21.9</td>\n",
       "      <td>71</td>\n",
       "      <td>5.8</td>\n",
       "      <td>0.0</td>\n",
       "      <td>54.29</td>\n",
       "    </tr>\n",
       "    <tr>\n",
       "      <th>514</th>\n",
       "      <td>7</td>\n",
       "      <td>4</td>\n",
       "      <td>aug</td>\n",
       "      <td>sun</td>\n",
       "      <td>81.6</td>\n",
       "      <td>56.7</td>\n",
       "      <td>665.6</td>\n",
       "      <td>1.9</td>\n",
       "      <td>21.2</td>\n",
       "      <td>70</td>\n",
       "      <td>6.7</td>\n",
       "      <td>0.0</td>\n",
       "      <td>11.16</td>\n",
       "    </tr>\n",
       "    <tr>\n",
       "      <th>515</th>\n",
       "      <td>1</td>\n",
       "      <td>4</td>\n",
       "      <td>aug</td>\n",
       "      <td>sat</td>\n",
       "      <td>94.4</td>\n",
       "      <td>146.0</td>\n",
       "      <td>614.7</td>\n",
       "      <td>11.3</td>\n",
       "      <td>25.6</td>\n",
       "      <td>42</td>\n",
       "      <td>4.0</td>\n",
       "      <td>0.0</td>\n",
       "      <td>0.00</td>\n",
       "    </tr>\n",
       "    <tr>\n",
       "      <th>516</th>\n",
       "      <td>6</td>\n",
       "      <td>3</td>\n",
       "      <td>nov</td>\n",
       "      <td>tue</td>\n",
       "      <td>79.5</td>\n",
       "      <td>3.0</td>\n",
       "      <td>106.7</td>\n",
       "      <td>1.1</td>\n",
       "      <td>11.8</td>\n",
       "      <td>31</td>\n",
       "      <td>4.5</td>\n",
       "      <td>0.0</td>\n",
       "      <td>0.00</td>\n",
       "    </tr>\n",
       "  </tbody>\n",
       "</table>\n",
       "<p>517 rows × 13 columns</p>\n",
       "</div>"
      ],
      "text/plain": [
       "     X  Y month  day  FFMC    DMC     DC   ISI  temp  RH  wind  rain   area\n",
       "0    7  5   mar  fri  86.2   26.2   94.3   5.1   8.2  51   6.7   0.0   0.00\n",
       "1    7  4   oct  tue  90.6   35.4  669.1   6.7  18.0  33   0.9   0.0   0.00\n",
       "2    7  4   oct  sat  90.6   43.7  686.9   6.7  14.6  33   1.3   0.0   0.00\n",
       "3    8  6   mar  fri  91.7   33.3   77.5   9.0   8.3  97   4.0   0.2   0.00\n",
       "4    8  6   mar  sun  89.3   51.3  102.2   9.6  11.4  99   1.8   0.0   0.00\n",
       "..  .. ..   ...  ...   ...    ...    ...   ...   ...  ..   ...   ...    ...\n",
       "512  4  3   aug  sun  81.6   56.7  665.6   1.9  27.8  32   2.7   0.0   6.44\n",
       "513  2  4   aug  sun  81.6   56.7  665.6   1.9  21.9  71   5.8   0.0  54.29\n",
       "514  7  4   aug  sun  81.6   56.7  665.6   1.9  21.2  70   6.7   0.0  11.16\n",
       "515  1  4   aug  sat  94.4  146.0  614.7  11.3  25.6  42   4.0   0.0   0.00\n",
       "516  6  3   nov  tue  79.5    3.0  106.7   1.1  11.8  31   4.5   0.0   0.00\n",
       "\n",
       "[517 rows x 13 columns]"
      ]
     },
     "execution_count": 464,
     "metadata": {},
     "output_type": "execute_result"
    }
   ],
   "source": [
    "df = pd.read_csv('forestfires.csv')\n",
    "df"
   ]
  },
  {
   "cell_type": "markdown",
   "id": "7c2abd1d",
   "metadata": {},
   "source": [
    "# EDA"
   ]
  },
  {
   "cell_type": "markdown",
   "id": "f10173b4",
   "metadata": {},
   "source": [
    "### Типы данных столбцов"
   ]
  },
  {
   "cell_type": "code",
   "execution_count": 465,
   "id": "d7dbf69b",
   "metadata": {},
   "outputs": [
    {
     "data": {
      "text/plain": [
       "X          int64\n",
       "Y          int64\n",
       "month     object\n",
       "day       object\n",
       "FFMC     float64\n",
       "DMC      float64\n",
       "DC       float64\n",
       "ISI      float64\n",
       "temp     float64\n",
       "RH         int64\n",
       "wind     float64\n",
       "rain     float64\n",
       "area     float64\n",
       "dtype: object"
      ]
     },
     "execution_count": 465,
     "metadata": {},
     "output_type": "execute_result"
    }
   ],
   "source": [
    "df.dtypes"
   ]
  },
  {
   "cell_type": "code",
   "execution_count": 466,
   "id": "2b83d3d1",
   "metadata": {},
   "outputs": [
    {
     "data": {
      "image/png": "[encoded data removed]",
      "text/plain": [
       "<Figure size 1080x360 with 1 Axes>"
      ]
     },
     "metadata": {
      "needs_background": "light"
     },
     "output_type": "display_data"
    }
   ],
   "source": [
    "fire_counts = df[df['area']!=0].count()[0]\n",
    "nofire_counts = df[df['area']==0].count()[0]\n",
    "\n",
    "plt.subplots_adjust(left = 0.1, right=0.3)\n",
    "bars = plt.bar(['Записи о пожаре', 'Записи об \\n отсутствии пожара'], [fire_counts, nofire_counts], \n",
    "               color='brown', edgecolor = 'black')\n",
    "plt.bar_label(bars, fontsize = 12)\n",
    "plt.show()"
   ]
  },
  {
   "cell_type": "markdown",
   "id": "39d3feb0",
   "metadata": {},
   "source": [
    "### Чаще всего пожары случаются в регионах с координатами долготы 2, 4, в средней полосе"
   ]
  },
  {
   "cell_type": "code",
   "execution_count": 467,
   "id": "a230c468",
   "metadata": {},
   "outputs": [
    {
     "data": {
      "image/png": "[encoded data removed]",
      "text/plain": [
       "<Figure size 1008x576 with 2 Axes>"
      ]
     },
     "metadata": {
      "needs_background": "light"
     },
     "output_type": "display_data"
    }
   ],
   "source": [
    "def XY(row):\n",
    "    return (str(row['X']) + '|' + str(row['Y']))\n",
    "\n",
    "vis = df\n",
    "vis['X|Y'] = vis.apply(XY, axis = 1)\n",
    "vis = vis[vis['area']!=0]\n",
    "values = vis['X|Y'].to_list()\n",
    "index = vis['area'].to_list()\n",
    "size = pd.Series(values, index).value_counts().sort_index()\n",
    "\n",
    "X, Y = [], []\n",
    "for i in size.index:\n",
    "    X.append(int(i.split('|')[0]))\n",
    "    Y.append(int(i.split('|')[1]))\n",
    "    \n",
    "data = pd.DataFrame({'X': X, 'Y': Y, 'Count of fires': size})\n",
    "heatmap_data = pd.pivot_table(data, values='Count of fires', index='Y', columns='X')\n",
    "\n",
    "plt.figure(figsize = (14,8))\n",
    "sns.heatmap(heatmap_data, cmap='YlOrRd', annot=True, fmt=\".1f\", linewidths=.5, cbar_kws={'label': 'Count of fires'},\n",
    "            xticklabels=1, yticklabels=1)\n",
    "\n",
    "plt.xlabel('X', fontsize = 15)\n",
    "plt.ylabel('Y', fontsize = 15)\n",
    "plt.tick_params(axis='x', labelsize=12)\n",
    "plt.tick_params(axis='y', labelsize=12)\n",
    "plt.title('Количество пожаров по областям', fontsize = 15)\n",
    "plt.subplots_adjust(left=0, right=1)\n",
    "plt.show()\n",
    "df.drop('X|Y', axis= 1 , inplace= True )"
   ]
  },
  {
   "cell_type": "markdown",
   "id": "f79a35a9",
   "metadata": {},
   "source": [
    "### Наиболее часто возгорания происходят в августе и сентябре"
   ]
  },
  {
   "cell_type": "code",
   "execution_count": 468,
   "id": "d9ca336d",
   "metadata": {},
   "outputs": [
    {
     "data": {
      "image/png": "[encoded data removed]",
      "text/plain": [
       "<Figure size 864x504 with 2 Axes>"
      ]
     },
     "metadata": {
      "needs_background": "light"
     },
     "output_type": "display_data"
    }
   ],
   "source": [
    "month = ['feb', 'mar', 'apr', 'may', 'jun', 'jul', 'aug', 'sep', 'oct', 'dec']\n",
    "month_number = [2, 3, 4, 5, 6, 7, 8, 9, 10, 12]\n",
    "\n",
    "mo = df[df['area'] != 0]['month'].value_counts()\n",
    "mo = mo.rename(index={month[i]:month_number[i] for i in range(len(month))}).sort_index(ascending=False)\n",
    "mo = mo.rename(index={month_number[i]:month[i] for i in range(len(month))})\n",
    "\n",
    "days = ['mon', 'tue', 'wed', 'thu', 'fri', 'sat', 'sun']\n",
    "day = df[df['area'] != 0]['day'].value_counts()\n",
    "day = day.rename(index={days[i]:(i+1) for i in range(len(days))}).sort_index(ascending=False)\n",
    "day = day.rename(index={(i+1):days[i] for i in range(len(days))})\n",
    "\n",
    "plt.figure(figsize = (12,7))\n",
    "m = plt.subplot(1,2,1)\n",
    "m.barh(mo.index, mo, color='brown', edgecolor = 'black')\n",
    "plt.title('Количество возгораний по месяцам')\n",
    "plt.xlabel('Количество возгораний', fontsize=12)\n",
    "plt.ylabel('Месяц', fontsize=12)\n",
    "\n",
    "d = plt.subplot(1,2,2)\n",
    "d.barh(day.index, day, color='brown', edgecolor = 'black')\n",
    "plt.title('Количество возгораний по дням')\n",
    "plt.xlabel('Количество возгораний', fontsize=12)\n",
    "plt.ylabel('День', fontsize=12)\n",
    "\n",
    "plt.show()"
   ]
  },
  {
   "cell_type": "markdown",
   "id": "878a4514",
   "metadata": {},
   "source": [
    "### Частотные распределения погодных признаков имеют смещения, можно попробовать нормализацию"
   ]
  },
  {
   "cell_type": "code",
   "execution_count": 469,
   "id": "78e0e1d8",
   "metadata": {},
   "outputs": [
    {
     "data": {
      "image/png": "[encoded data removed]",
      "text/plain": [
       "<Figure size 1080x504 with 8 Axes>"
      ]
     },
     "metadata": {
      "needs_background": "light"
     },
     "output_type": "display_data"
    }
   ],
   "source": [
    "c = [column for column in df][4:12]\n",
    "plt.figure(figsize=(15,7))\n",
    "for i in range(8):\n",
    "    plt.subplot(2,4,i+1)\n",
    "    plt.hist(df.iloc[:, [i+4]],bins = 40, color = 'brown')\n",
    "    plt.title(c[i])\n",
    "    plt.xlabel('Значения')\n",
    "    plt.ylabel('Количество')\n",
    "plt.subplots_adjust(left=0.13, \n",
    "                    right=0.93, \n",
    "                    top=1.0, \n",
    "                    bottom= 0.27, \n",
    "                    wspace= 0.3, \n",
    "                    hspace=0.5)\n",
    "plt.show()"
   ]
  },
  {
   "cell_type": "markdown",
   "id": "39628a3b",
   "metadata": {},
   "source": [
    "#### Обработаем выбросы в FFMC, ISI, rain"
   ]
  },
  {
   "cell_type": "code",
   "execution_count": 470,
   "id": "680d6e0c",
   "metadata": {},
   "outputs": [],
   "source": [
    "#выбросы признака FFMC\n",
    "df.drop(df.loc[df['FFMC'] < 60].index, inplace=True)\n",
    "\n",
    "#выбросы признака ISI\n",
    "df.drop(df.loc[df['ISI'] > 25].index, inplace=True)\n",
    "\n",
    "#выбросы признака rain\n",
    "df.drop(df.loc[df['rain'] > 2].index, inplace=True)"
   ]
  },
  {
   "cell_type": "markdown",
   "id": "3094f70e",
   "metadata": {},
   "source": [
    "### Корреляции признаков"
   ]
  },
  {
   "cell_type": "code",
   "execution_count": 471,
   "id": "4be38b16",
   "metadata": {},
   "outputs": [
    {
     "name": "stderr",
     "output_type": "stream",
     "text": [
      "C:\\Users\\HUAWEI\\AppData\\Local\\Temp/ipykernel_22448/3819992626.py:2: FutureWarning: The default value of numeric_only in DataFrame.corr is deprecated. In a future version, it will default to False. Select only valid columns or specify the value of numeric_only to silence this warning.\n",
      "  corr = df_new.corr()\n"
     ]
    },
    {
     "data": {
      "text/html": [
       "<style type=\"text/css\">\n",
       "#T_83889_row0_col0, #T_83889_row1_col1, #T_83889_row2_col2, #T_83889_row3_col3, #T_83889_row4_col4, #T_83889_row5_col5, #T_83889_row6_col6, #T_83889_row7_col7, #T_83889_row8_col8, #T_83889_row9_col9, #T_83889_row10_col10 {\n",
       "  background-color: #800026;\n",
       "  color: #f1f1f1;\n",
       "}\n",
       "#T_83889_row0_col1, #T_83889_row6_col2, #T_83889_row6_col4 {\n",
       "  background-color: #fc6330;\n",
       "  color: #f1f1f1;\n",
       "}\n",
       "#T_83889_row0_col2, #T_83889_row3_col10, #T_83889_row10_col0 {\n",
       "  background-color: #ffec9d;\n",
       "  color: #000000;\n",
       "}\n",
       "#T_83889_row0_col3, #T_83889_row2_col1, #T_83889_row9_col10 {\n",
       "  background-color: #fff8ba;\n",
       "  color: #000000;\n",
       "}\n",
       "#T_83889_row0_col4, #T_83889_row1_col3, #T_83889_row2_col10, #T_83889_row3_col9 {\n",
       "  background-color: #fff0a7;\n",
       "  color: #000000;\n",
       "}\n",
       "#T_83889_row0_col5, #T_83889_row5_col9 {\n",
       "  background-color: #fff3ae;\n",
       "  color: #000000;\n",
       "}\n",
       "#T_83889_row0_col6 {\n",
       "  background-color: #fec965;\n",
       "  color: #000000;\n",
       "}\n",
       "#T_83889_row0_col7 {\n",
       "  background-color: #feab49;\n",
       "  color: #000000;\n",
       "}\n",
       "#T_83889_row0_col8 {\n",
       "  background-color: #fee084;\n",
       "  color: #000000;\n",
       "}\n",
       "#T_83889_row0_col9, #T_83889_row1_col5 {\n",
       "  background-color: #fff2ac;\n",
       "  color: #000000;\n",
       "}\n",
       "#T_83889_row0_col10 {\n",
       "  background-color: #ffeda0;\n",
       "  color: #000000;\n",
       "}\n",
       "#T_83889_row1_col0 {\n",
       "  background-color: #fc6631;\n",
       "  color: #f1f1f1;\n",
       "}\n",
       "#T_83889_row1_col2 {\n",
       "  background-color: #ffe998;\n",
       "  color: #000000;\n",
       "}\n",
       "#T_83889_row1_col4, #T_83889_row8_col0 {\n",
       "  background-color: #fff1ab;\n",
       "  color: #000000;\n",
       "}\n",
       "#T_83889_row1_col6, #T_83889_row4_col7 {\n",
       "  background-color: #fec15d;\n",
       "  color: #000000;\n",
       "}\n",
       "#T_83889_row1_col7 {\n",
       "  background-color: #feb04b;\n",
       "  color: #000000;\n",
       "}\n",
       "#T_83889_row1_col8 {\n",
       "  background-color: #ffe58f;\n",
       "  color: #000000;\n",
       "}\n",
       "#T_83889_row1_col9 {\n",
       "  background-color: #fff8bb;\n",
       "  color: #000000;\n",
       "}\n",
       "#T_83889_row1_col10 {\n",
       "  background-color: #ffefa5;\n",
       "  color: #000000;\n",
       "}\n",
       "#T_83889_row2_col0, #T_83889_row4_col8, #T_83889_row6_col0 {\n",
       "  background-color: #fffcc5;\n",
       "  color: #000000;\n",
       "}\n",
       "#T_83889_row2_col3 {\n",
       "  background-color: #fd863a;\n",
       "  color: #f1f1f1;\n",
       "}\n",
       "#T_83889_row2_col4, #T_83889_row4_col2 {\n",
       "  background-color: #fd8239;\n",
       "  color: #f1f1f1;\n",
       "}\n",
       "#T_83889_row2_col5 {\n",
       "  background-color: #e9261f;\n",
       "  color: #f1f1f1;\n",
       "}\n",
       "#T_83889_row2_col6 {\n",
       "  background-color: #f43d25;\n",
       "  color: #f1f1f1;\n",
       "}\n",
       "#T_83889_row2_col7 {\n",
       "  background-color: #fee288;\n",
       "  color: #000000;\n",
       "}\n",
       "#T_83889_row2_col8, #T_83889_row4_col10 {\n",
       "  background-color: #ffefa4;\n",
       "  color: #000000;\n",
       "}\n",
       "#T_83889_row2_col9, #T_83889_row5_col10, #T_83889_row8_col10 {\n",
       "  background-color: #fff4b0;\n",
       "  color: #000000;\n",
       "}\n",
       "#T_83889_row3_col0 {\n",
       "  background-color: #fffbc2;\n",
       "  color: #000000;\n",
       "}\n",
       "#T_83889_row3_col1 {\n",
       "  background-color: #fff1a9;\n",
       "  color: #000000;\n",
       "}\n",
       "#T_83889_row3_col2 {\n",
       "  background-color: #fd7034;\n",
       "  color: #f1f1f1;\n",
       "}\n",
       "#T_83889_row3_col4 {\n",
       "  background-color: #e51e1d;\n",
       "  color: #f1f1f1;\n",
       "}\n",
       "#T_83889_row3_col5, #T_83889_row10_col6 {\n",
       "  background-color: #fea848;\n",
       "  color: #000000;\n",
       "}\n",
       "#T_83889_row3_col6 {\n",
       "  background-color: #f84528;\n",
       "  color: #f1f1f1;\n",
       "}\n",
       "#T_83889_row3_col7, #T_83889_row5_col3 {\n",
       "  background-color: #fea948;\n",
       "  color: #000000;\n",
       "}\n",
       "#T_83889_row3_col8, #T_83889_row8_col2 {\n",
       "  background-color: #fff0a8;\n",
       "  color: #000000;\n",
       "}\n",
       "#T_83889_row4_col0, #T_83889_row4_col1, #T_83889_row6_col7, #T_83889_row6_col8, #T_83889_row7_col2, #T_83889_row7_col5, #T_83889_row7_col6, #T_83889_row7_col10, #T_83889_row8_col3, #T_83889_row8_col4, #T_83889_row10_col9 {\n",
       "  background-color: #ffffcc;\n",
       "  color: #000000;\n",
       "}\n",
       "#T_83889_row4_col3 {\n",
       "  background-color: #e92720;\n",
       "  color: #f1f1f1;\n",
       "}\n",
       "#T_83889_row4_col5, #T_83889_row9_col6 {\n",
       "  background-color: #feb651;\n",
       "  color: #000000;\n",
       "}\n",
       "#T_83889_row4_col6 {\n",
       "  background-color: #f33b25;\n",
       "  color: #f1f1f1;\n",
       "}\n",
       "#T_83889_row4_col9 {\n",
       "  background-color: #fff6b6;\n",
       "  color: #000000;\n",
       "}\n",
       "#T_83889_row5_col0 {\n",
       "  background-color: #fff7b9;\n",
       "  color: #000000;\n",
       "}\n",
       "#T_83889_row5_col1, #T_83889_row6_col1 {\n",
       "  background-color: #fff5b3;\n",
       "  color: #000000;\n",
       "}\n",
       "#T_83889_row5_col2 {\n",
       "  background-color: #e41c1d;\n",
       "  color: #f1f1f1;\n",
       "}\n",
       "#T_83889_row5_col4 {\n",
       "  background-color: #fea747;\n",
       "  color: #000000;\n",
       "}\n",
       "#T_83889_row5_col6 {\n",
       "  background-color: #fc512b;\n",
       "  color: #f1f1f1;\n",
       "}\n",
       "#T_83889_row5_col7 {\n",
       "  background-color: #fed572;\n",
       "  color: #000000;\n",
       "}\n",
       "#T_83889_row5_col8 {\n",
       "  background-color: #fecf6b;\n",
       "  color: #000000;\n",
       "}\n",
       "#T_83889_row6_col3 {\n",
       "  background-color: #fd8439;\n",
       "  color: #f1f1f1;\n",
       "}\n",
       "#T_83889_row6_col5 {\n",
       "  background-color: #fd923e;\n",
       "  color: #000000;\n",
       "}\n",
       "#T_83889_row6_col9 {\n",
       "  background-color: #fff9bd;\n",
       "  color: #000000;\n",
       "}\n",
       "#T_83889_row6_col10, #T_83889_row7_col0 {\n",
       "  background-color: #ffe895;\n",
       "  color: #000000;\n",
       "}\n",
       "#T_83889_row7_col1 {\n",
       "  background-color: #ffea9b;\n",
       "  color: #000000;\n",
       "}\n",
       "#T_83889_row7_col3, #T_83889_row7_col9, #T_83889_row8_col6 {\n",
       "  background-color: #ffe48c;\n",
       "  color: #000000;\n",
       "}\n",
       "#T_83889_row7_col4 {\n",
       "  background-color: #ffe997;\n",
       "  color: #000000;\n",
       "}\n",
       "#T_83889_row7_col8 {\n",
       "  background-color: #fed673;\n",
       "  color: #000000;\n",
       "}\n",
       "#T_83889_row8_col1 {\n",
       "  background-color: #fff4b2;\n",
       "  color: #000000;\n",
       "}\n",
       "#T_83889_row8_col5 {\n",
       "  background-color: #fee085;\n",
       "  color: #000000;\n",
       "}\n",
       "#T_83889_row8_col7 {\n",
       "  background-color: #feac49;\n",
       "  color: #000000;\n",
       "}\n",
       "#T_83889_row8_col9, #T_83889_row9_col0 {\n",
       "  background-color: #ffea99;\n",
       "  color: #000000;\n",
       "}\n",
       "#T_83889_row9_col1, #T_83889_row10_col5 {\n",
       "  background-color: #ffeea3;\n",
       "  color: #000000;\n",
       "}\n",
       "#T_83889_row9_col2 {\n",
       "  background-color: #fedb7b;\n",
       "  color: #000000;\n",
       "}\n",
       "#T_83889_row9_col3 {\n",
       "  background-color: #ffe48d;\n",
       "  color: #000000;\n",
       "}\n",
       "#T_83889_row9_col4, #T_83889_row10_col2, #T_83889_row10_col4 {\n",
       "  background-color: #fede82;\n",
       "  color: #000000;\n",
       "}\n",
       "#T_83889_row9_col5 {\n",
       "  background-color: #ffe691;\n",
       "  color: #000000;\n",
       "}\n",
       "#T_83889_row9_col7 {\n",
       "  background-color: #fd9a42;\n",
       "  color: #000000;\n",
       "}\n",
       "#T_83889_row9_col8 {\n",
       "  background-color: #feca66;\n",
       "  color: #000000;\n",
       "}\n",
       "#T_83889_row10_col1 {\n",
       "  background-color: #ffec9f;\n",
       "  color: #000000;\n",
       "}\n",
       "#T_83889_row10_col3 {\n",
       "  background-color: #ffe793;\n",
       "  color: #000000;\n",
       "}\n",
       "#T_83889_row10_col7 {\n",
       "  background-color: #fecb67;\n",
       "  color: #000000;\n",
       "}\n",
       "#T_83889_row10_col8 {\n",
       "  background-color: #fee187;\n",
       "  color: #000000;\n",
       "}\n",
       "</style>\n",
       "<table id=\"T_83889\">\n",
       "  <thead>\n",
       "    <tr>\n",
       "      <th class=\"blank level0\" >&nbsp;</th>\n",
       "      <th id=\"T_83889_level0_col0\" class=\"col_heading level0 col0\" >X</th>\n",
       "      <th id=\"T_83889_level0_col1\" class=\"col_heading level0 col1\" >Y</th>\n",
       "      <th id=\"T_83889_level0_col2\" class=\"col_heading level0 col2\" >FFMC</th>\n",
       "      <th id=\"T_83889_level0_col3\" class=\"col_heading level0 col3\" >DMC</th>\n",
       "      <th id=\"T_83889_level0_col4\" class=\"col_heading level0 col4\" >DC</th>\n",
       "      <th id=\"T_83889_level0_col5\" class=\"col_heading level0 col5\" >ISI</th>\n",
       "      <th id=\"T_83889_level0_col6\" class=\"col_heading level0 col6\" >temp</th>\n",
       "      <th id=\"T_83889_level0_col7\" class=\"col_heading level0 col7\" >RH</th>\n",
       "      <th id=\"T_83889_level0_col8\" class=\"col_heading level0 col8\" >wind</th>\n",
       "      <th id=\"T_83889_level0_col9\" class=\"col_heading level0 col9\" >rain</th>\n",
       "      <th id=\"T_83889_level0_col10\" class=\"col_heading level0 col10\" >area</th>\n",
       "    </tr>\n",
       "  </thead>\n",
       "  <tbody>\n",
       "    <tr>\n",
       "      <th id=\"T_83889_level0_row0\" class=\"row_heading level0 row0\" >X</th>\n",
       "      <td id=\"T_83889_row0_col0\" class=\"data row0 col0\" >1.000000</td>\n",
       "      <td id=\"T_83889_row0_col1\" class=\"data row0 col1\" >0.540601</td>\n",
       "      <td id=\"T_83889_row0_col2\" class=\"data row0 col2\" >-0.058633</td>\n",
       "      <td id=\"T_83889_row0_col3\" class=\"data row0 col3\" >-0.053077</td>\n",
       "      <td id=\"T_83889_row0_col4\" class=\"data row0 col4\" >-0.082975</td>\n",
       "      <td id=\"T_83889_row0_col5\" class=\"data row0 col5\" >-0.022271</td>\n",
       "      <td id=\"T_83889_row0_col6\" class=\"data row0 col6\" >-0.057929</td>\n",
       "      <td id=\"T_83889_row0_col7\" class=\"data row0 col7\" >0.088910</td>\n",
       "      <td id=\"T_83889_row0_col8\" class=\"data row0 col8\" >0.020187</td>\n",
       "      <td id=\"T_83889_row0_col9\" class=\"data row0 col9\" >0.074469</td>\n",
       "      <td id=\"T_83889_row0_col10\" class=\"data row0 col10\" >0.063750</td>\n",
       "    </tr>\n",
       "    <tr>\n",
       "      <th id=\"T_83889_level0_row1\" class=\"row_heading level0 row1\" >Y</th>\n",
       "      <td id=\"T_83889_row1_col0\" class=\"data row1 col0\" >0.540601</td>\n",
       "      <td id=\"T_83889_row1_col1\" class=\"data row1 col1\" >1.000000</td>\n",
       "      <td id=\"T_83889_row1_col2\" class=\"data row1 col2\" >-0.041551</td>\n",
       "      <td id=\"T_83889_row1_col3\" class=\"data row1 col3\" >0.008633</td>\n",
       "      <td id=\"T_83889_row1_col4\" class=\"data row1 col4\" >-0.099741</td>\n",
       "      <td id=\"T_83889_row1_col5\" class=\"data row1 col5\" >-0.020018</td>\n",
       "      <td id=\"T_83889_row1_col6\" class=\"data row1 col6\" >-0.022147</td>\n",
       "      <td id=\"T_83889_row1_col7\" class=\"data row1 col7\" >0.056480</td>\n",
       "      <td id=\"T_83889_row1_col8\" class=\"data row1 col8\" >-0.017534</td>\n",
       "      <td id=\"T_83889_row1_col9\" class=\"data row1 col9\" >0.030201</td>\n",
       "      <td id=\"T_83889_row1_col10\" class=\"data row1 col10\" >0.045222</td>\n",
       "    </tr>\n",
       "    <tr>\n",
       "      <th id=\"T_83889_level0_row2\" class=\"row_heading level0 row2\" >FFMC</th>\n",
       "      <td id=\"T_83889_row2_col0\" class=\"data row2 col0\" >-0.058633</td>\n",
       "      <td id=\"T_83889_row2_col1\" class=\"data row2 col1\" >-0.041551</td>\n",
       "      <td id=\"T_83889_row2_col2\" class=\"data row2 col2\" >1.000000</td>\n",
       "      <td id=\"T_83889_row2_col3\" class=\"data row2 col3\" >0.459669</td>\n",
       "      <td id=\"T_83889_row2_col4\" class=\"data row2 col4\" >0.416740</td>\n",
       "      <td id=\"T_83889_row2_col5\" class=\"data row2 col5\" >0.687777</td>\n",
       "      <td id=\"T_83889_row2_col6\" class=\"data row2 col6\" >0.489537</td>\n",
       "      <td id=\"T_83889_row2_col7\" class=\"data row2 col7\" >-0.223624</td>\n",
       "      <td id=\"T_83889_row2_col8\" class=\"data row2 col8\" >-0.095441</td>\n",
       "      <td id=\"T_83889_row2_col9\" class=\"data row2 col9\" >0.063613</td>\n",
       "      <td id=\"T_83889_row2_col10\" class=\"data row2 col10\" >0.043234</td>\n",
       "    </tr>\n",
       "    <tr>\n",
       "      <th id=\"T_83889_level0_row3\" class=\"row_heading level0 row3\" >DMC</th>\n",
       "      <td id=\"T_83889_row3_col0\" class=\"data row3 col0\" >-0.053077</td>\n",
       "      <td id=\"T_83889_row3_col1\" class=\"data row3 col1\" >0.008633</td>\n",
       "      <td id=\"T_83889_row3_col2\" class=\"data row3 col2\" >0.459669</td>\n",
       "      <td id=\"T_83889_row3_col3\" class=\"data row3 col3\" >1.000000</td>\n",
       "      <td id=\"T_83889_row3_col4\" class=\"data row3 col4\" >0.683221</td>\n",
       "      <td id=\"T_83889_row3_col5\" class=\"data row3 col5\" >0.337878</td>\n",
       "      <td id=\"T_83889_row3_col6\" class=\"data row3 col6\" >0.462365</td>\n",
       "      <td id=\"T_83889_row3_col7\" class=\"data row3 col7\" >0.093002</td>\n",
       "      <td id=\"T_83889_row3_col8\" class=\"data row3 col8\" >-0.111651</td>\n",
       "      <td id=\"T_83889_row3_col9\" class=\"data row3 col9\" >0.092075</td>\n",
       "      <td id=\"T_83889_row3_col10\" class=\"data row3 col10\" >0.072061</td>\n",
       "    </tr>\n",
       "    <tr>\n",
       "      <th id=\"T_83889_level0_row4\" class=\"row_heading level0 row4\" >DC</th>\n",
       "      <td id=\"T_83889_row4_col0\" class=\"data row4 col0\" >-0.082975</td>\n",
       "      <td id=\"T_83889_row4_col1\" class=\"data row4 col1\" >-0.099741</td>\n",
       "      <td id=\"T_83889_row4_col2\" class=\"data row4 col2\" >0.416740</td>\n",
       "      <td id=\"T_83889_row4_col3\" class=\"data row4 col3\" >0.683221</td>\n",
       "      <td id=\"T_83889_row4_col4\" class=\"data row4 col4\" >1.000000</td>\n",
       "      <td id=\"T_83889_row4_col5\" class=\"data row4 col5\" >0.284641</td>\n",
       "      <td id=\"T_83889_row4_col6\" class=\"data row4 col6\" >0.495264</td>\n",
       "      <td id=\"T_83889_row4_col7\" class=\"data row4 col7\" >-0.026705</td>\n",
       "      <td id=\"T_83889_row4_col8\" class=\"data row4 col8\" >-0.214218</td>\n",
       "      <td id=\"T_83889_row4_col9\" class=\"data row4 col9\" >0.047710</td>\n",
       "      <td id=\"T_83889_row4_col10\" class=\"data row4 col10\" >0.048332</td>\n",
       "    </tr>\n",
       "    <tr>\n",
       "      <th id=\"T_83889_level0_row5\" class=\"row_heading level0 row5\" >ISI</th>\n",
       "      <td id=\"T_83889_row5_col0\" class=\"data row5 col0\" >-0.022271</td>\n",
       "      <td id=\"T_83889_row5_col1\" class=\"data row5 col1\" >-0.020018</td>\n",
       "      <td id=\"T_83889_row5_col2\" class=\"data row5 col2\" >0.687777</td>\n",
       "      <td id=\"T_83889_row5_col3\" class=\"data row5 col3\" >0.337878</td>\n",
       "      <td id=\"T_83889_row5_col4\" class=\"data row5 col4\" >0.284641</td>\n",
       "      <td id=\"T_83889_row5_col5\" class=\"data row5 col5\" >1.000000</td>\n",
       "      <td id=\"T_83889_row5_col6\" class=\"data row5 col6\" >0.421137</td>\n",
       "      <td id=\"T_83889_row5_col7\" class=\"data row5 col7\" >-0.121606</td>\n",
       "      <td id=\"T_83889_row5_col8\" class=\"data row5 col8\" >0.109638</td>\n",
       "      <td id=\"T_83889_row5_col9\" class=\"data row5 col9\" >0.070992</td>\n",
       "      <td id=\"T_83889_row5_col10\" class=\"data row5 col10\" >0.011555</td>\n",
       "    </tr>\n",
       "    <tr>\n",
       "      <th id=\"T_83889_level0_row6\" class=\"row_heading level0 row6\" >temp</th>\n",
       "      <td id=\"T_83889_row6_col0\" class=\"data row6 col0\" >-0.057929</td>\n",
       "      <td id=\"T_83889_row6_col1\" class=\"data row6 col1\" >-0.022147</td>\n",
       "      <td id=\"T_83889_row6_col2\" class=\"data row6 col2\" >0.489537</td>\n",
       "      <td id=\"T_83889_row6_col3\" class=\"data row6 col3\" >0.462365</td>\n",
       "      <td id=\"T_83889_row6_col4\" class=\"data row6 col4\" >0.495264</td>\n",
       "      <td id=\"T_83889_row6_col5\" class=\"data row6 col5\" >0.421137</td>\n",
       "      <td id=\"T_83889_row6_col6\" class=\"data row6 col6\" >1.000000</td>\n",
       "      <td id=\"T_83889_row6_col7\" class=\"data row6 col7\" >-0.520966</td>\n",
       "      <td id=\"T_83889_row6_col8\" class=\"data row6 col8\" >-0.239712</td>\n",
       "      <td id=\"T_83889_row6_col9\" class=\"data row6 col9\" >0.027741</td>\n",
       "      <td id=\"T_83889_row6_col10\" class=\"data row6 col10\" >0.097208</td>\n",
       "    </tr>\n",
       "    <tr>\n",
       "      <th id=\"T_83889_level0_row7\" class=\"row_heading level0 row7\" >RH</th>\n",
       "      <td id=\"T_83889_row7_col0\" class=\"data row7 col0\" >0.088910</td>\n",
       "      <td id=\"T_83889_row7_col1\" class=\"data row7 col1\" >0.056480</td>\n",
       "      <td id=\"T_83889_row7_col2\" class=\"data row7 col2\" >-0.223624</td>\n",
       "      <td id=\"T_83889_row7_col3\" class=\"data row7 col3\" >0.093002</td>\n",
       "      <td id=\"T_83889_row7_col4\" class=\"data row7 col4\" >-0.026705</td>\n",
       "      <td id=\"T_83889_row7_col5\" class=\"data row7 col5\" >-0.121606</td>\n",
       "      <td id=\"T_83889_row7_col6\" class=\"data row7 col6\" >-0.520966</td>\n",
       "      <td id=\"T_83889_row7_col7\" class=\"data row7 col7\" >1.000000</td>\n",
       "      <td id=\"T_83889_row7_col8\" class=\"data row7 col8\" >0.081182</td>\n",
       "      <td id=\"T_83889_row7_col9\" class=\"data row7 col9\" >0.171109</td>\n",
       "      <td id=\"T_83889_row7_col10\" class=\"data row7 col10\" >-0.074032</td>\n",
       "    </tr>\n",
       "    <tr>\n",
       "      <th id=\"T_83889_level0_row8\" class=\"row_heading level0 row8\" >wind</th>\n",
       "      <td id=\"T_83889_row8_col0\" class=\"data row8 col0\" >0.020187</td>\n",
       "      <td id=\"T_83889_row8_col1\" class=\"data row8 col1\" >-0.017534</td>\n",
       "      <td id=\"T_83889_row8_col2\" class=\"data row8 col2\" >-0.095441</td>\n",
       "      <td id=\"T_83889_row8_col3\" class=\"data row8 col3\" >-0.111651</td>\n",
       "      <td id=\"T_83889_row8_col4\" class=\"data row8 col4\" >-0.214218</td>\n",
       "      <td id=\"T_83889_row8_col5\" class=\"data row8 col5\" >0.109638</td>\n",
       "      <td id=\"T_83889_row8_col6\" class=\"data row8 col6\" >-0.239712</td>\n",
       "      <td id=\"T_83889_row8_col7\" class=\"data row8 col7\" >0.081182</td>\n",
       "      <td id=\"T_83889_row8_col8\" class=\"data row8 col8\" >1.000000</td>\n",
       "      <td id=\"T_83889_row8_col9\" class=\"data row8 col9\" >0.129831</td>\n",
       "      <td id=\"T_83889_row8_col10\" class=\"data row8 col10\" >0.012048</td>\n",
       "    </tr>\n",
       "    <tr>\n",
       "      <th id=\"T_83889_level0_row9\" class=\"row_heading level0 row9\" >rain</th>\n",
       "      <td id=\"T_83889_row9_col0\" class=\"data row9 col0\" >0.074469</td>\n",
       "      <td id=\"T_83889_row9_col1\" class=\"data row9 col1\" >0.030201</td>\n",
       "      <td id=\"T_83889_row9_col2\" class=\"data row9 col2\" >0.063613</td>\n",
       "      <td id=\"T_83889_row9_col3\" class=\"data row9 col3\" >0.092075</td>\n",
       "      <td id=\"T_83889_row9_col4\" class=\"data row9 col4\" >0.047710</td>\n",
       "      <td id=\"T_83889_row9_col5\" class=\"data row9 col5\" >0.070992</td>\n",
       "      <td id=\"T_83889_row9_col6\" class=\"data row9 col6\" >0.027741</td>\n",
       "      <td id=\"T_83889_row9_col7\" class=\"data row9 col7\" >0.171109</td>\n",
       "      <td id=\"T_83889_row9_col8\" class=\"data row9 col8\" >0.129831</td>\n",
       "      <td id=\"T_83889_row9_col9\" class=\"data row9 col9\" >1.000000</td>\n",
       "      <td id=\"T_83889_row9_col10\" class=\"data row9 col10\" >-0.019421</td>\n",
       "    </tr>\n",
       "    <tr>\n",
       "      <th id=\"T_83889_level0_row10\" class=\"row_heading level0 row10\" >area</th>\n",
       "      <td id=\"T_83889_row10_col0\" class=\"data row10 col0\" >0.063750</td>\n",
       "      <td id=\"T_83889_row10_col1\" class=\"data row10 col1\" >0.045222</td>\n",
       "      <td id=\"T_83889_row10_col2\" class=\"data row10 col2\" >0.043234</td>\n",
       "      <td id=\"T_83889_row10_col3\" class=\"data row10 col3\" >0.072061</td>\n",
       "      <td id=\"T_83889_row10_col4\" class=\"data row10 col4\" >0.048332</td>\n",
       "      <td id=\"T_83889_row10_col5\" class=\"data row10 col5\" >0.011555</td>\n",
       "      <td id=\"T_83889_row10_col6\" class=\"data row10 col6\" >0.097208</td>\n",
       "      <td id=\"T_83889_row10_col7\" class=\"data row10 col7\" >-0.074032</td>\n",
       "      <td id=\"T_83889_row10_col8\" class=\"data row10 col8\" >0.012048</td>\n",
       "      <td id=\"T_83889_row10_col9\" class=\"data row10 col9\" >-0.019421</td>\n",
       "      <td id=\"T_83889_row10_col10\" class=\"data row10 col10\" >1.000000</td>\n",
       "    </tr>\n",
       "  </tbody>\n",
       "</table>\n"
      ],
      "text/plain": [
       "<pandas.io.formats.style.Styler at 0x252c7ca9ff0>"
      ]
     },
     "execution_count": 471,
     "metadata": {},
     "output_type": "execute_result"
    }
   ],
   "source": [
    "df_new = df.iloc[:, [0,1,4,5,6,7,8,9,10,11,12,3]]\n",
    "corr = df_new.corr()\n",
    "corr.style.background_gradient(cmap='YlOrRd')"
   ]
  },
  {
   "cell_type": "markdown",
   "id": "dc9b11fb",
   "metadata": {},
   "source": [
    "### Площадь возгорания имеет большой разброс"
   ]
  },
  {
   "cell_type": "code",
   "execution_count": 472,
   "id": "4126cf61",
   "metadata": {
    "scrolled": true
   },
   "outputs": [
    {
     "data": {
      "image/png": "[encoded data removed]",
      "text/plain": [
       "<Figure size 1080x360 with 2 Axes>"
      ]
     },
     "metadata": {
      "needs_background": "light"
     },
     "output_type": "display_data"
    }
   ],
   "source": [
    "area = df[df['area']!=0]['area']\n",
    "bins_5 = [5*i for i in range(11)]\n",
    "bins_10 = [bins_5[-1] + 10*i for i in range(1, 6)]\n",
    "bins_50 = [bins_10[-1] + 50*i for i in range(1, 21)]\n",
    "bins = bins_5 + bins_10 + bins_50\n",
    "\n",
    "area_50 = area[area <= 50]\n",
    "\n",
    "plt.rcParams ['figure.figsize'] = [15, 5]\n",
    "\n",
    "plt.subplot(1,2,1)\n",
    "plt.hist(area, bins = bins, color='brown')\n",
    "plt.xticks(np.arange(0, 1100, step=100))\n",
    "plt.title('Распределение возгарающихся площадей')\n",
    "plt.xlabel('Площадь (area)', fontsize = 12)\n",
    "plt.ylabel('Частота', fontsize = 12)\n",
    "\n",
    "plt.subplot(1,2,2)\n",
    "plt.hist(area_50, bins = [5*i for i in range(11)], color = 'brown')\n",
    "plt.xticks(np.arange(0,51,step=5))\n",
    "plt.title('Левый хвост распределения')\n",
    "plt.xlabel('Площадь (area)', fontsize = 12)\n",
    "plt.ylabel('Частота', fontsize = 12)\n",
    "\n",
    "plt.show()"
   ]
  },
  {
   "cell_type": "markdown",
   "id": "e963b927",
   "metadata": {},
   "source": [
    "#### Обработаем выбросы"
   ]
  },
  {
   "cell_type": "code",
   "execution_count": 473,
   "id": "cd051f3c",
   "metadata": {},
   "outputs": [],
   "source": [
    "df.drop(df.loc[df['area'] > 50].index, inplace=True)"
   ]
  },
  {
   "cell_type": "markdown",
   "id": "c9eb3a4f",
   "metadata": {},
   "source": [
    "### Применим преобразование ln(x+1) к столбцу area, чтобы сжать данные к левому хвосту"
   ]
  },
  {
   "cell_type": "code",
   "execution_count": 474,
   "id": "44f4c869",
   "metadata": {},
   "outputs": [],
   "source": [
    "df['area'] = df['area'].apply(lambda x: np.log(x+1))"
   ]
  },
  {
   "cell_type": "code",
   "execution_count": 475,
   "id": "18d29f04",
   "metadata": {},
   "outputs": [
    {
     "data": {
      "image/png": "[encoded data removed]",
      "text/plain": [
       "<Figure size 1080x360 with 1 Axes>"
      ]
     },
     "metadata": {
      "needs_background": "light"
     },
     "output_type": "display_data"
    }
   ],
   "source": [
    "area = df[df['area']!=0]['area']\n",
    "\n",
    "plt.rcParams ['figure.figsize'] = [15, 5]\n",
    "plt.hist(area, bins = 20, color='brown')\n",
    "plt.title('Распределение возгарающихся площадей')\n",
    "plt.xlabel('Площадь: ln(x + 1)', fontsize = 12)\n",
    "plt.ylabel('Частота', fontsize = 12)\n",
    "plt.subplots_adjust(left=0, right=0.5)\n",
    "plt.show()"
   ]
  },
  {
   "cell_type": "markdown",
   "id": "229f4ec4",
   "metadata": {},
   "source": [
    "#### Вывод: удалось собрать данные в левом хвосте"
   ]
  },
  {
   "cell_type": "markdown",
   "id": "43a9f512",
   "metadata": {},
   "source": [
    "# Training"
   ]
  },
  {
   "cell_type": "markdown",
   "id": "63e9faa5",
   "metadata": {},
   "source": [
    "#### One Hot Encoding, Mixing and Splitting"
   ]
  },
  {
   "cell_type": "code",
   "execution_count": 476,
   "id": "1cfe3f6f",
   "metadata": {},
   "outputs": [],
   "source": [
    "#OneHotEncoding\n",
    "ohe = sklearn.preprocessing.OneHotEncoder(handle_unknown = 'ignore', sparse_output = False).set_output(transform='pandas')\n",
    "\n",
    "ohetransform_m = ohe.fit_transform(df[['month']])\n",
    "df = pd.concat([df, ohetransform_m], axis = 1).drop(columns='month')\n",
    "\n",
    "ohetransform_d = ohe.fit_transform(df[['day']])\n",
    "df = pd.concat([df, ohetransform_d], axis = 1).drop(columns='day')"
   ]
  },
  {
   "cell_type": "code",
   "execution_count": 477,
   "id": "3b9eeb92",
   "metadata": {},
   "outputs": [],
   "source": [
    "#Меняем порядок столбцов\n",
    "area = df['area']\n",
    "df = df.drop('area', axis=1)\n",
    "\n",
    "df.insert(df.shape[1], 'area', area)"
   ]
  },
  {
   "cell_type": "code",
   "execution_count": 478,
   "id": "37191a7b",
   "metadata": {},
   "outputs": [],
   "source": [
    "#Замешиваем датасет\n",
    "df_sample = df.sample(frac=1, random_state=1) #перемешиваем"
   ]
  },
  {
   "cell_type": "code",
   "execution_count": 479,
   "id": "4e38fc68",
   "metadata": {},
   "outputs": [],
   "source": [
    "#Делим на train и test\n",
    "cut = int(.75*len(df))\n",
    "train = df_sample.iloc[:cut] #тренировочный датасет\n",
    "X_train, Y_train = [train.iloc[:, [i for i in range(29)]], train.iloc[:, [29]]] #тренировочные данные\n",
    "\n",
    "test = df_sample.iloc[cut:] #тестовый датасет\n",
    "X_test, Y_test = [test.iloc[:, [i for i in range(29)]], test.iloc[:, [29]]] #тестовые данные"
   ]
  },
  {
   "cell_type": "markdown",
   "id": "54f9586e",
   "metadata": {},
   "source": [
    "### Training"
   ]
  },
  {
   "cell_type": "markdown",
   "id": "15af2c6b",
   "metadata": {},
   "source": [
    "#### Linear model"
   ]
  },
  {
   "cell_type": "code",
   "execution_count": 480,
   "id": "af7f3025",
   "metadata": {},
   "outputs": [
    {
     "data": {
      "text/html": [
       "<style>#sk-container-id-31 {color: black;}#sk-container-id-31 pre{padding: 0;}#sk-container-id-31 div.sk-toggleable {background-color: white;}#sk-container-id-31 label.sk-toggleable__label {cursor: pointer;display: block;width: 100%;margin-bottom: 0;padding: 0.3em;box-sizing: border-box;text-align: center;}#sk-container-id-31 label.sk-toggleable__label-arrow:before {content: \"▸\";float: left;margin-right: 0.25em;color: #696969;}#sk-container-id-31 label.sk-toggleable__label-arrow:hover:before {color: black;}#sk-container-id-31 div.sk-estimator:hover label.sk-toggleable__label-arrow:before {color: black;}#sk-container-id-31 div.sk-toggleable__content {max-height: 0;max-width: 0;overflow: hidden;text-align: left;background-color: #f0f8ff;}#sk-container-id-31 div.sk-toggleable__content pre {margin: 0.2em;color: black;border-radius: 0.25em;background-color: #f0f8ff;}#sk-container-id-31 input.sk-toggleable__control:checked~div.sk-toggleable__content {max-height: 200px;max-width: 100%;overflow: auto;}#sk-container-id-31 input.sk-toggleable__control:checked~label.sk-toggleable__label-arrow:before {content: \"▾\";}#sk-container-id-31 div.sk-estimator input.sk-toggleable__control:checked~label.sk-toggleable__label {background-color: #d4ebff;}#sk-container-id-31 div.sk-label input.sk-toggleable__control:checked~label.sk-toggleable__label {background-color: #d4ebff;}#sk-container-id-31 input.sk-hidden--visually {border: 0;clip: rect(1px 1px 1px 1px);clip: rect(1px, 1px, 1px, 1px);height: 1px;margin: -1px;overflow: hidden;padding: 0;position: absolute;width: 1px;}#sk-container-id-31 div.sk-estimator {font-family: monospace;background-color: #f0f8ff;border: 1px dotted black;border-radius: 0.25em;box-sizing: border-box;margin-bottom: 0.5em;}#sk-container-id-31 div.sk-estimator:hover {background-color: #d4ebff;}#sk-container-id-31 div.sk-parallel-item::after {content: \"\";width: 100%;border-bottom: 1px solid gray;flex-grow: 1;}#sk-container-id-31 div.sk-label:hover label.sk-toggleable__label {background-color: #d4ebff;}#sk-container-id-31 div.sk-serial::before {content: \"\";position: absolute;border-left: 1px solid gray;box-sizing: border-box;top: 0;bottom: 0;left: 50%;z-index: 0;}#sk-container-id-31 div.sk-serial {display: flex;flex-direction: column;align-items: center;background-color: white;padding-right: 0.2em;padding-left: 0.2em;position: relative;}#sk-container-id-31 div.sk-item {position: relative;z-index: 1;}#sk-container-id-31 div.sk-parallel {display: flex;align-items: stretch;justify-content: center;background-color: white;position: relative;}#sk-container-id-31 div.sk-item::before, #sk-container-id-31 div.sk-parallel-item::before {content: \"\";position: absolute;border-left: 1px solid gray;box-sizing: border-box;top: 0;bottom: 0;left: 50%;z-index: -1;}#sk-container-id-31 div.sk-parallel-item {display: flex;flex-direction: column;z-index: 1;position: relative;background-color: white;}#sk-container-id-31 div.sk-parallel-item:first-child::after {align-self: flex-end;width: 50%;}#sk-container-id-31 div.sk-parallel-item:last-child::after {align-self: flex-start;width: 50%;}#sk-container-id-31 div.sk-parallel-item:only-child::after {width: 0;}#sk-container-id-31 div.sk-dashed-wrapped {border: 1px dashed gray;margin: 0 0.4em 0.5em 0.4em;box-sizing: border-box;padding-bottom: 0.4em;background-color: white;}#sk-container-id-31 div.sk-label label {font-family: monospace;font-weight: bold;display: inline-block;line-height: 1.2em;}#sk-container-id-31 div.sk-label-container {text-align: center;}#sk-container-id-31 div.sk-container {/* jupyter's `normalize.less` sets `[hidden] { display: none; }` but bootstrap.min.css set `[hidden] { display: none !important; }` so we also need the `!important` here to be able to override the default hidden behavior on the sphinx rendered scikit-learn.org. See: https://github.com/scikit-learn/scikit-learn/issues/21755 */display: inline-block !important;position: relative;}#sk-container-id-31 div.sk-text-repr-fallback {display: none;}</style><div id=\"sk-container-id-31\" class=\"sk-top-container\"><div class=\"sk-text-repr-fallback\"><pre>LinearRegression()</pre><b>In a Jupyter environment, please rerun this cell to show the HTML representation or trust the notebook. <br />On GitHub, the HTML representation is unable to render, please try loading this page with nbviewer.org.</b></div><div class=\"sk-container\" hidden><div class=\"sk-item\"><div class=\"sk-estimator sk-toggleable\"><input class=\"sk-toggleable__control sk-hidden--visually\" id=\"sk-estimator-id-31\" type=\"checkbox\" checked><label for=\"sk-estimator-id-31\" class=\"sk-toggleable__label sk-toggleable__label-arrow\">LinearRegression</label><div class=\"sk-toggleable__content\"><pre>LinearRegression()</pre></div></div></div></div></div>"
      ],
      "text/plain": [
       "LinearRegression()"
      ]
     },
     "execution_count": 480,
     "metadata": {},
     "output_type": "execute_result"
    }
   ],
   "source": [
    "linear = sklearn.linear_model.LinearRegression()\n",
    "linear.fit(X_train, Y_train)"
   ]
  },
  {
   "cell_type": "code",
   "execution_count": 481,
   "id": "9c742c1d",
   "metadata": {
    "scrolled": true
   },
   "outputs": [
    {
     "name": "stdout",
     "output_type": "stream",
     "text": [
      "RMSE после обратного логарифмического преобразования: 7.636250936515745\n"
     ]
    }
   ],
   "source": [
    "linear_prediction = linear.predict(X_test)\n",
    "\n",
    "#Обратное логарифмическое преобразование\n",
    "linear_prediction = pd.DataFrame(linear_prediction).apply(lambda x: np.exp(x) - 1)\n",
    "Y_test = Y_test.apply(lambda x: np.exp(x) - 1)\n",
    "\n",
    "linear_rmse = np.sqrt(mean_squared_error(linear_prediction, Y_test))\n",
    "\n",
    "print('RMSE после обратного логарифмического преобразования:', linear_rmse)"
   ]
  },
  {
   "cell_type": "markdown",
   "id": "15286b29",
   "metadata": {},
   "source": [
    "#### Score on Cross-Validation"
   ]
  },
  {
   "cell_type": "code",
   "execution_count": 482,
   "id": "014a37d3",
   "metadata": {},
   "outputs": [
    {
     "name": "stdout",
     "output_type": "stream",
     "text": [
      "Mean score on cross-validation without the inverse logarithmic transformation:  1.2021804578549227\n"
     ]
    }
   ],
   "source": [
    "linear_cv = sklearn.linear_model.LinearRegression()\n",
    "cv = sklearn.model_selection.KFold(n_splits = 5, shuffle = True, random_state = 42)\n",
    "\n",
    "score = abs(sklearn.model_selection.cross_val_score(estimator = linear_cv,\n",
    "                                                    X = df_sample.iloc[:, [i for i in range(29)]], \n",
    "                                                    y = df_sample.iloc[:, [29]],\n",
    "                                                    cv = cv,\n",
    "                                                    scoring = 'neg_mean_squared_error'))\n",
    "mean_cv_score = np.mean(np.sqrt(score))\n",
    "print('Mean score on cross-validation without the inverse logarithmic transformation: ', mean_cv_score)"
   ]
  },
  {
   "cell_type": "markdown",
   "id": "ab239622",
   "metadata": {},
   "source": [
    "### Отбор признаков с помощью RFE"
   ]
  },
  {
   "cell_type": "code",
   "execution_count": 483,
   "id": "536d145d",
   "metadata": {},
   "outputs": [
    {
     "name": "stdout",
     "output_type": "stream",
     "text": [
      "Значение i-го элемента характеризует влияние i-го признака, 10 выбраны приоритетными: \n",
      " [12 11  6 16 15  9 13 14 17  1  5  1  1  1 19  1  1  1 20 18 10  8  7  4\n",
      "  3  1  2  1  1]\n"
     ]
    }
   ],
   "source": [
    "#ранжируем фичи про влиянию на предсказания\n",
    "linear = sklearn.linear_model.LinearRegression()\n",
    "selector = RFE(linear, n_features_to_select=10, step=1)\n",
    "selector = selector.fit(X_test, Y_test)\n",
    "print('Значение i-го элемента характеризует влияние i-го признака, 10 выбраны приоритетными:', '\\n', \n",
    "      selector.ranking_)"
   ]
  },
  {
   "cell_type": "code",
   "execution_count": 484,
   "id": "b70da7b3",
   "metadata": {
    "collapsed": true
   },
   "outputs": [
    {
     "name": "stderr",
     "output_type": "stream",
     "text": [
      "C:\\Users\\HUAWEI\\AppData\\Local\\Temp/ipykernel_22448/1973307075.py:4: SettingWithCopyWarning: \n",
      "A value is trying to be set on a copy of a slice from a DataFrame\n",
      "\n",
      "See the caveats in the documentation: https://pandas.pydata.org/pandas-docs/stable/user_guide/indexing.html#returning-a-view-versus-a-copy\n",
      "  X_test.drop(X_test.columns[[i for i in unnecessary]], axis = 1, inplace = True)\n",
      "C:\\Users\\HUAWEI\\AppData\\Local\\Temp/ipykernel_22448/1973307075.py:5: SettingWithCopyWarning: \n",
      "A value is trying to be set on a copy of a slice from a DataFrame\n",
      "\n",
      "See the caveats in the documentation: https://pandas.pydata.org/pandas-docs/stable/user_guide/indexing.html#returning-a-view-versus-a-copy\n",
      "  X_train.drop(X_train.columns[[i for i in unnecessary]], axis = 1, inplace = True)\n"
     ]
    }
   ],
   "source": [
    "#отбираем 10 наиболее влиятельных признаков\n",
    "threshold_level = 1\n",
    "unnecessary = [index for index, value in enumerate(selector.ranking_) if value > threshold_level]\n",
    "X_test.drop(X_test.columns[[i for i in unnecessary]], axis = 1, inplace = True)\n",
    "X_train.drop(X_train.columns[[i for i in unnecessary]], axis = 1, inplace = True)"
   ]
  },
  {
   "cell_type": "code",
   "execution_count": 485,
   "id": "bf2f0d68",
   "metadata": {},
   "outputs": [
    {
     "name": "stdout",
     "output_type": "stream",
     "text": [
      "RMSE после обратного логарифмического преобразования и отбора 10 лучших признаков: 7.671037429825308\n"
     ]
    }
   ],
   "source": [
    "#обучаем модель с меньшим кол-вом признаков\n",
    "new_linear = sklearn.linear_model.LinearRegression()\n",
    "new_linear.fit(X_train, Y_train)\n",
    "\n",
    "new_linear_prediction = new_linear.predict(X_test)\n",
    "new_linear_prediction = pd.DataFrame(new_linear_prediction).apply(lambda x: np.exp(x) - 1)\n",
    "\n",
    "new_rmse = np.sqrt(mean_squared_error(new_linear_prediction, Y_test))\n",
    "print('RMSE после обратного логарифмического преобразования и отбора 10 лучших признаков:', new_rmse)"
   ]
  },
  {
   "cell_type": "code",
   "execution_count": 486,
   "id": "50308552",
   "metadata": {},
   "outputs": [
    {
     "name": "stdout",
     "output_type": "stream",
     "text": [
      "RMSE классической регрессии до выделения ключевых признаков: 7.63625\n",
      "RMSE классической регрессии после выделения ключевых признаков: 7.67104 \n",
      "\n",
      "Вывод: изменение  0.03479  незначительное для данной задачи\n"
     ]
    }
   ],
   "source": [
    "print('RMSE классической регрессии до выделения ключевых признаков:', linear_rmse.round(5))\n",
    "print('RMSE классической регрессии после выделения ключевых признаков:', new_rmse.round(5),'\\n')\n",
    "print('Вывод: изменение ', round(abs(linear_rmse.round(5) - new_rmse.round(5)),5), ' незначительное для данной задачи')"
   ]
  },
  {
   "cell_type": "code",
   "execution_count": 487,
   "id": "dfd4030b",
   "metadata": {},
   "outputs": [
    {
     "name": "stdout",
     "output_type": "stream",
     "text": [
      "10 наиболее влияющих на предсказание признаков: \n",
      " ['rain', 'month_aug', 'month_dec', 'month_feb', 'month_jul', 'month_jun', 'month_mar', 'day_sun', 'day_tue', 'day_wed']\n"
     ]
    }
   ],
   "source": [
    "print('10 наиболее влияющих на предсказание признаков:', '\\n', [i for i in X_train.columns])"
   ]
  },
  {
   "cell_type": "code",
   "execution_count": 488,
   "id": "967d74b1",
   "metadata": {},
   "outputs": [
    {
     "name": "stdout",
     "output_type": "stream",
     "text": [
      "Среднее значение предсказанной величины после обратного логарифмического преобразования:  1.9566\n",
      "Следовательно, модель чаще предсказывает небольшие возгарания\n"
     ]
    }
   ],
   "source": [
    "print('Среднее значение предсказанной величины после обратного логарифмического преобразования: ', \n",
    "      round(new_linear_prediction.mean()[0],4))\n",
    "print('Следовательно, модель чаще предсказывает небольшие возгарания')"
   ]
  },
  {
   "cell_type": "markdown",
   "id": "708ed782",
   "metadata": {},
   "source": [
    "#### Наилучшего качества модели удалось добиться при 5 признаках (когда остаются только некоторые месяцы), но логика подсказывает, что валидацию такая модель не пройдет, вероятно как и модель с 10ю ключевыми признаками"
   ]
  },
  {
   "cell_type": "markdown",
   "id": "e81e823b",
   "metadata": {},
   "source": [
    "### Lasso & Ridge"
   ]
  },
  {
   "cell_type": "code",
   "execution_count": 489,
   "id": "faf023d5",
   "metadata": {},
   "outputs": [],
   "source": [
    "train = df_sample.iloc[:cut] #тренировочный датасет\n",
    "X_train, Y_train = [train.iloc[:, [i for i in range(29)]], train.iloc[:, [29]]] #тренировочные данные\n",
    "\n",
    "test = df_sample.iloc[cut:] #тестовый датасет\n",
    "X_test, Y_test = [test.iloc[:, [i for i in range(29)]], test.iloc[:, [29]]] #тестовые данные"
   ]
  },
  {
   "cell_type": "markdown",
   "id": "9705dbe8",
   "metadata": {},
   "source": [
    "#### Ridge"
   ]
  },
  {
   "cell_type": "code",
   "execution_count": 490,
   "id": "b4799f09",
   "metadata": {},
   "outputs": [
    {
     "data": {
      "text/html": [
       "<style>#sk-container-id-32 {color: black;}#sk-container-id-32 pre{padding: 0;}#sk-container-id-32 div.sk-toggleable {background-color: white;}#sk-container-id-32 label.sk-toggleable__label {cursor: pointer;display: block;width: 100%;margin-bottom: 0;padding: 0.3em;box-sizing: border-box;text-align: center;}#sk-container-id-32 label.sk-toggleable__label-arrow:before {content: \"▸\";float: left;margin-right: 0.25em;color: #696969;}#sk-container-id-32 label.sk-toggleable__label-arrow:hover:before {color: black;}#sk-container-id-32 div.sk-estimator:hover label.sk-toggleable__label-arrow:before {color: black;}#sk-container-id-32 div.sk-toggleable__content {max-height: 0;max-width: 0;overflow: hidden;text-align: left;background-color: #f0f8ff;}#sk-container-id-32 div.sk-toggleable__content pre {margin: 0.2em;color: black;border-radius: 0.25em;background-color: #f0f8ff;}#sk-container-id-32 input.sk-toggleable__control:checked~div.sk-toggleable__content {max-height: 200px;max-width: 100%;overflow: auto;}#sk-container-id-32 input.sk-toggleable__control:checked~label.sk-toggleable__label-arrow:before {content: \"▾\";}#sk-container-id-32 div.sk-estimator input.sk-toggleable__control:checked~label.sk-toggleable__label {background-color: #d4ebff;}#sk-container-id-32 div.sk-label input.sk-toggleable__control:checked~label.sk-toggleable__label {background-color: #d4ebff;}#sk-container-id-32 input.sk-hidden--visually {border: 0;clip: rect(1px 1px 1px 1px);clip: rect(1px, 1px, 1px, 1px);height: 1px;margin: -1px;overflow: hidden;padding: 0;position: absolute;width: 1px;}#sk-container-id-32 div.sk-estimator {font-family: monospace;background-color: #f0f8ff;border: 1px dotted black;border-radius: 0.25em;box-sizing: border-box;margin-bottom: 0.5em;}#sk-container-id-32 div.sk-estimator:hover {background-color: #d4ebff;}#sk-container-id-32 div.sk-parallel-item::after {content: \"\";width: 100%;border-bottom: 1px solid gray;flex-grow: 1;}#sk-container-id-32 div.sk-label:hover label.sk-toggleable__label {background-color: #d4ebff;}#sk-container-id-32 div.sk-serial::before {content: \"\";position: absolute;border-left: 1px solid gray;box-sizing: border-box;top: 0;bottom: 0;left: 50%;z-index: 0;}#sk-container-id-32 div.sk-serial {display: flex;flex-direction: column;align-items: center;background-color: white;padding-right: 0.2em;padding-left: 0.2em;position: relative;}#sk-container-id-32 div.sk-item {position: relative;z-index: 1;}#sk-container-id-32 div.sk-parallel {display: flex;align-items: stretch;justify-content: center;background-color: white;position: relative;}#sk-container-id-32 div.sk-item::before, #sk-container-id-32 div.sk-parallel-item::before {content: \"\";position: absolute;border-left: 1px solid gray;box-sizing: border-box;top: 0;bottom: 0;left: 50%;z-index: -1;}#sk-container-id-32 div.sk-parallel-item {display: flex;flex-direction: column;z-index: 1;position: relative;background-color: white;}#sk-container-id-32 div.sk-parallel-item:first-child::after {align-self: flex-end;width: 50%;}#sk-container-id-32 div.sk-parallel-item:last-child::after {align-self: flex-start;width: 50%;}#sk-container-id-32 div.sk-parallel-item:only-child::after {width: 0;}#sk-container-id-32 div.sk-dashed-wrapped {border: 1px dashed gray;margin: 0 0.4em 0.5em 0.4em;box-sizing: border-box;padding-bottom: 0.4em;background-color: white;}#sk-container-id-32 div.sk-label label {font-family: monospace;font-weight: bold;display: inline-block;line-height: 1.2em;}#sk-container-id-32 div.sk-label-container {text-align: center;}#sk-container-id-32 div.sk-container {/* jupyter's `normalize.less` sets `[hidden] { display: none; }` but bootstrap.min.css set `[hidden] { display: none !important; }` so we also need the `!important` here to be able to override the default hidden behavior on the sphinx rendered scikit-learn.org. See: https://github.com/scikit-learn/scikit-learn/issues/21755 */display: inline-block !important;position: relative;}#sk-container-id-32 div.sk-text-repr-fallback {display: none;}</style><div id=\"sk-container-id-32\" class=\"sk-top-container\"><div class=\"sk-text-repr-fallback\"><pre>Ridge()</pre><b>In a Jupyter environment, please rerun this cell to show the HTML representation or trust the notebook. <br />On GitHub, the HTML representation is unable to render, please try loading this page with nbviewer.org.</b></div><div class=\"sk-container\" hidden><div class=\"sk-item\"><div class=\"sk-estimator sk-toggleable\"><input class=\"sk-toggleable__control sk-hidden--visually\" id=\"sk-estimator-id-32\" type=\"checkbox\" checked><label for=\"sk-estimator-id-32\" class=\"sk-toggleable__label sk-toggleable__label-arrow\">Ridge</label><div class=\"sk-toggleable__content\"><pre>Ridge()</pre></div></div></div></div></div>"
      ],
      "text/plain": [
       "Ridge()"
      ]
     },
     "execution_count": 490,
     "metadata": {},
     "output_type": "execute_result"
    }
   ],
   "source": [
    "ridge = sklearn.linear_model.Ridge(alpha=1.0)\n",
    "ridge.fit(X_train, Y_train)"
   ]
  },
  {
   "cell_type": "code",
   "execution_count": 491,
   "id": "f2571ebf",
   "metadata": {},
   "outputs": [
    {
     "name": "stdout",
     "output_type": "stream",
     "text": [
      "RMSE: 7.71616968424261\n"
     ]
    }
   ],
   "source": [
    "ridge_prediction = pd.DataFrame(ridge.predict(X_test)).apply(lambda x: np.exp(x) - 1)\n",
    "Y_test = Y_test.apply(lambda x: np.exp(x) - 1)\n",
    "\n",
    "ridge_rmse = np.sqrt(mean_squared_error(ridge_prediction, Y_test))\n",
    "print('RMSE:', ridge_rmse)"
   ]
  },
  {
   "cell_type": "code",
   "execution_count": 492,
   "id": "6bf8aa6e",
   "metadata": {},
   "outputs": [
    {
     "name": "stdout",
     "output_type": "stream",
     "text": [
      "Среднее значение предсказанной величины после обратного логарифмического преобразования:  1.9274\n",
      "Следовательно, модель чаще предсказывает небольшие возгарания\n"
     ]
    }
   ],
   "source": [
    "print('Среднее значение предсказанной величины после обратного логарифмического преобразования: ', \n",
    "      round(ridge_prediction.mean()[0],4))\n",
    "print('Следовательно, модель чаще предсказывает небольшие возгарания')"
   ]
  },
  {
   "cell_type": "markdown",
   "id": "9e027edc",
   "metadata": {},
   "source": [
    "#### Lasso"
   ]
  },
  {
   "cell_type": "code",
   "execution_count": 493,
   "id": "ee895fcd",
   "metadata": {},
   "outputs": [
    {
     "data": {
      "text/html": [
       "<style>#sk-container-id-33 {color: black;}#sk-container-id-33 pre{padding: 0;}#sk-container-id-33 div.sk-toggleable {background-color: white;}#sk-container-id-33 label.sk-toggleable__label {cursor: pointer;display: block;width: 100%;margin-bottom: 0;padding: 0.3em;box-sizing: border-box;text-align: center;}#sk-container-id-33 label.sk-toggleable__label-arrow:before {content: \"▸\";float: left;margin-right: 0.25em;color: #696969;}#sk-container-id-33 label.sk-toggleable__label-arrow:hover:before {color: black;}#sk-container-id-33 div.sk-estimator:hover label.sk-toggleable__label-arrow:before {color: black;}#sk-container-id-33 div.sk-toggleable__content {max-height: 0;max-width: 0;overflow: hidden;text-align: left;background-color: #f0f8ff;}#sk-container-id-33 div.sk-toggleable__content pre {margin: 0.2em;color: black;border-radius: 0.25em;background-color: #f0f8ff;}#sk-container-id-33 input.sk-toggleable__control:checked~div.sk-toggleable__content {max-height: 200px;max-width: 100%;overflow: auto;}#sk-container-id-33 input.sk-toggleable__control:checked~label.sk-toggleable__label-arrow:before {content: \"▾\";}#sk-container-id-33 div.sk-estimator input.sk-toggleable__control:checked~label.sk-toggleable__label {background-color: #d4ebff;}#sk-container-id-33 div.sk-label input.sk-toggleable__control:checked~label.sk-toggleable__label {background-color: #d4ebff;}#sk-container-id-33 input.sk-hidden--visually {border: 0;clip: rect(1px 1px 1px 1px);clip: rect(1px, 1px, 1px, 1px);height: 1px;margin: -1px;overflow: hidden;padding: 0;position: absolute;width: 1px;}#sk-container-id-33 div.sk-estimator {font-family: monospace;background-color: #f0f8ff;border: 1px dotted black;border-radius: 0.25em;box-sizing: border-box;margin-bottom: 0.5em;}#sk-container-id-33 div.sk-estimator:hover {background-color: #d4ebff;}#sk-container-id-33 div.sk-parallel-item::after {content: \"\";width: 100%;border-bottom: 1px solid gray;flex-grow: 1;}#sk-container-id-33 div.sk-label:hover label.sk-toggleable__label {background-color: #d4ebff;}#sk-container-id-33 div.sk-serial::before {content: \"\";position: absolute;border-left: 1px solid gray;box-sizing: border-box;top: 0;bottom: 0;left: 50%;z-index: 0;}#sk-container-id-33 div.sk-serial {display: flex;flex-direction: column;align-items: center;background-color: white;padding-right: 0.2em;padding-left: 0.2em;position: relative;}#sk-container-id-33 div.sk-item {position: relative;z-index: 1;}#sk-container-id-33 div.sk-parallel {display: flex;align-items: stretch;justify-content: center;background-color: white;position: relative;}#sk-container-id-33 div.sk-item::before, #sk-container-id-33 div.sk-parallel-item::before {content: \"\";position: absolute;border-left: 1px solid gray;box-sizing: border-box;top: 0;bottom: 0;left: 50%;z-index: -1;}#sk-container-id-33 div.sk-parallel-item {display: flex;flex-direction: column;z-index: 1;position: relative;background-color: white;}#sk-container-id-33 div.sk-parallel-item:first-child::after {align-self: flex-end;width: 50%;}#sk-container-id-33 div.sk-parallel-item:last-child::after {align-self: flex-start;width: 50%;}#sk-container-id-33 div.sk-parallel-item:only-child::after {width: 0;}#sk-container-id-33 div.sk-dashed-wrapped {border: 1px dashed gray;margin: 0 0.4em 0.5em 0.4em;box-sizing: border-box;padding-bottom: 0.4em;background-color: white;}#sk-container-id-33 div.sk-label label {font-family: monospace;font-weight: bold;display: inline-block;line-height: 1.2em;}#sk-container-id-33 div.sk-label-container {text-align: center;}#sk-container-id-33 div.sk-container {/* jupyter's `normalize.less` sets `[hidden] { display: none; }` but bootstrap.min.css set `[hidden] { display: none !important; }` so we also need the `!important` here to be able to override the default hidden behavior on the sphinx rendered scikit-learn.org. See: https://github.com/scikit-learn/scikit-learn/issues/21755 */display: inline-block !important;position: relative;}#sk-container-id-33 div.sk-text-repr-fallback {display: none;}</style><div id=\"sk-container-id-33\" class=\"sk-top-container\"><div class=\"sk-text-repr-fallback\"><pre>Lasso()</pre><b>In a Jupyter environment, please rerun this cell to show the HTML representation or trust the notebook. <br />On GitHub, the HTML representation is unable to render, please try loading this page with nbviewer.org.</b></div><div class=\"sk-container\" hidden><div class=\"sk-item\"><div class=\"sk-estimator sk-toggleable\"><input class=\"sk-toggleable__control sk-hidden--visually\" id=\"sk-estimator-id-33\" type=\"checkbox\" checked><label for=\"sk-estimator-id-33\" class=\"sk-toggleable__label sk-toggleable__label-arrow\">Lasso</label><div class=\"sk-toggleable__content\"><pre>Lasso()</pre></div></div></div></div></div>"
      ],
      "text/plain": [
       "Lasso()"
      ]
     },
     "execution_count": 493,
     "metadata": {},
     "output_type": "execute_result"
    }
   ],
   "source": [
    "lasso = sklearn.linear_model.Lasso(alpha=1.0)\n",
    "lasso.fit(X_train, Y_train)"
   ]
  },
  {
   "cell_type": "code",
   "execution_count": 494,
   "id": "e9d003c7",
   "metadata": {},
   "outputs": [
    {
     "name": "stdout",
     "output_type": "stream",
     "text": [
      "RMSE: 8.009063990627407\n"
     ]
    }
   ],
   "source": [
    "lasso_prediction = pd.DataFrame(lasso.predict(X_test)).apply(lambda x: np.exp(x) - 1)\n",
    "lasso_rmse = np.sqrt(mean_squared_error(lasso_prediction, Y_test))\n",
    "print('RMSE:', lasso_rmse)"
   ]
  },
  {
   "cell_type": "markdown",
   "id": "c2e6ee86",
   "metadata": {},
   "source": [
    "# Выводы"
   ]
  },
  {
   "cell_type": "markdown",
   "id": "53f2bf1a",
   "metadata": {},
   "source": [
    "Если не производить преобразования колонки AREA как ln(x+1) и принять выбросами значения AREA > 15, то RMSE получаются такие:  \n",
    "  \n",
    "<b>Классическая линейная регрессия:</b> 3.7174  \n",
    "<b>Среднее на кросс-валидации по 5 подмножествам:</b> 3.7814  \n",
    "<b>Классическая линейная регрессия после выделения 10 ключевых признаков:</b> 3.6889  \n",
    "<b>Ridge-регрессия:</b> 3.7325  \n",
    "<b>Lasso-регрессия:</b> 3.7814  \n",
    "  \n",
    "  \n",
    "   "
   ]
  },
  {
   "cell_type": "markdown",
   "id": "a18efb00",
   "metadata": {},
   "source": [
    "В процессе исследовательского анализа данных были удалены выбросы.  \n",
    "Корреляционный анализ показал, что проблема мультиколлинеарности признаков вряд ли сделает предсказания модели хуже. Последнюю гипотезу подтвердило обучение моделей Lasso & Ridge, которые показали примерно такие же результаты, как и классическая линейная регрессия.  \n",
    "  \n",
    "Из-за того, что объектов с таргетом AREA > 50 в датасете немного, эти объекты были отброшены, после было применено сжимающее отображение, которое позволило собрать данные в левом хвосте с меньшей дисперсией.  \n",
    "  \n",
    "Всего было обучено 4 модели: линейная регрессия, линейная регрессия с отбором 10 наиболее влияющих на предсказания первой признаков, Lasso & Ridge регрессии\n",
    "\n",
    "Значения RMSE после обратного логарифмического преобразования:  \n",
    "<b>Классическая линейная регрессия:</b> 7.6363  \n",
    "<b>Классическая линейная регрессия после выделения 10 ключевых признаков:</b> 7.6710  \n",
    "<b>Ridge-регрессия:</b> 7.7162  \n",
    "<b>Lasso-регрессия:</b> 8.0091  "
   ]
  },
  {
   "cell_type": "markdown",
   "id": "568f954b",
   "metadata": {},
   "source": [
    "### Качество предсказаний моделей находится в диапазоне от 7.64 до 8.01, с такими результатами леса будут гореть и довольно сильно, к сожалению"
   ]
  }
 ],
 "metadata": {
  "kernelspec": {
   "display_name": "Python 3 (ipykernel)",
   "language": "python",
   "name": "python3"
  },
  "language_info": {
   "codemirror_mode": {
    "name": "ipython",
    "version": 3
   },
   "file_extension": ".py",
   "mimetype": "text/x-python",
   "name": "python",
   "nbconvert_exporter": "python",
   "pygments_lexer": "ipython3",
   "version": "3.10.1"
  }
 },
 "nbformat": 4,
 "nbformat_minor": 5
}
